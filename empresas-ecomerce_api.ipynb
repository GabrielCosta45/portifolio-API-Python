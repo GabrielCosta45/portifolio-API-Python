{
 "cells": [
  {
   "cell_type": "markdown",
   "id": "6e628eaf",
   "metadata": {},
   "source": [
    "## 🔹 ETAPA 1 - EXTRAÇÃO\n",
    "\n",
    "✅ Escolher uma API\n",
    "\n",
    "✅ Fazer a extração de pelo menos 3 tabelas \n"
   ]
  },
  {
   "cell_type": "code",
   "execution_count": 1,
   "id": "e41c7597",
   "metadata": {},
   "outputs": [
    {
     "name": "stdout",
     "output_type": "stream",
     "text": [
      "Tabela de Produtos\n",
      "   id                                              title   price  \\\n",
      "0   1  Fjallraven - Foldsack No. 1 Backpack, Fits 15 ...  109.95   \n",
      "1   2             Mens Casual Premium Slim Fit T-Shirts    22.30   \n",
      "2   3                                 Mens Cotton Jacket   55.99   \n",
      "3   4                               Mens Casual Slim Fit   15.99   \n",
      "4   5  John Hardy Women's Legends Naga Gold & Silver ...  695.00   \n",
      "\n",
      "                                         description        category  \\\n",
      "0  Your perfect pack for everyday use and walks i...  men's clothing   \n",
      "1  Slim-fitting style, contrast raglan long sleev...  men's clothing   \n",
      "2  great outerwear jackets for Spring/Autumn/Wint...  men's clothing   \n",
      "3  The color could be slightly different between ...  men's clothing   \n",
      "4  From our Legends Collection, the Naga was insp...        jewelery   \n",
      "\n",
      "                                               image  \\\n",
      "0  https://fakestoreapi.com/img/81fPKd-2AYL._AC_S...   \n",
      "1  https://fakestoreapi.com/img/71-3HjGNDUL._AC_S...   \n",
      "2  https://fakestoreapi.com/img/71li-ujtlUL._AC_U...   \n",
      "3  https://fakestoreapi.com/img/71YXzeOuslL._AC_U...   \n",
      "4  https://fakestoreapi.com/img/71pWzhdJNwL._AC_U...   \n",
      "\n",
      "                        rating  \n",
      "0  {'rate': 3.9, 'count': 120}  \n",
      "1  {'rate': 4.1, 'count': 259}  \n",
      "2  {'rate': 4.7, 'count': 500}  \n",
      "3  {'rate': 2.1, 'count': 430}  \n",
      "4  {'rate': 4.6, 'count': 400}  \n",
      "Tabela de Usuários\n",
      "                                             address  id               email  \\\n",
      "0  {'geolocation': {'lat': '-37.3159', 'long': '8...   1      john@gmail.com   \n",
      "1  {'geolocation': {'lat': '-37.3159', 'long': '8...   2  morrison@gmail.com   \n",
      "2  {'geolocation': {'lat': '40.3467', 'long': '-3...   3     kevin@gmail.com   \n",
      "3  {'geolocation': {'lat': '50.3467', 'long': '-2...   4       don@gmail.com   \n",
      "4  {'geolocation': {'lat': '40.3467', 'long': '-4...   5     derek@gmail.com   \n",
      "\n",
      "    username   password                                            name  \\\n",
      "0      johnd    m38rmF$        {'firstname': 'john', 'lastname': 'doe'}   \n",
      "1   mor_2314     83r5^_  {'firstname': 'david', 'lastname': 'morrison'}   \n",
      "2  kevinryan  kev02937@      {'firstname': 'kevin', 'lastname': 'ryan'}   \n",
      "3     donero     ewedon       {'firstname': 'don', 'lastname': 'romer'}   \n",
      "4      derek   jklg*_56    {'firstname': 'derek', 'lastname': 'powell'}   \n",
      "\n",
      "            phone  __v  \n",
      "0  1-570-236-7033    0  \n",
      "1  1-570-236-7033    0  \n",
      "2  1-567-094-1345    0  \n",
      "3  1-765-789-6734    0  \n",
      "4  1-956-001-1945    0  \n",
      "Tabela de Carrinhos\n",
      "   id  userId                      date  \\\n",
      "0   1       1  2020-03-02T00:00:00.000Z   \n",
      "1   2       1  2020-01-02T00:00:00.000Z   \n",
      "2   3       2  2020-03-01T00:00:00.000Z   \n",
      "3   4       3  2020-01-01T00:00:00.000Z   \n",
      "4   5       3  2020-03-01T00:00:00.000Z   \n",
      "\n",
      "                                            products  __v  \n",
      "0  [{'productId': 1, 'quantity': 4}, {'productId'...    0  \n",
      "1  [{'productId': 2, 'quantity': 4}, {'productId'...    0  \n",
      "2  [{'productId': 1, 'quantity': 2}, {'productId'...    0  \n",
      "3                  [{'productId': 1, 'quantity': 4}]    0  \n",
      "4  [{'productId': 7, 'quantity': 1}, {'productId'...    0  \n"
     ]
    }
   ],
   "source": [
    "import requests\n",
    "import pandas as pd\n",
    "from numpy import dtype as np\n",
    "from datetime import datetime\n",
    "import sqlite3\n",
    "\n",
    "# URLs da API\n",
    "url_produto = 'https://fakestoreapi.com/products'\n",
    "url_usuarios = 'https://fakestoreapi.com/users'\n",
    "url_carrinhos = 'https://fakestoreapi.com/carts'\n",
    "\n",
    "# Requisição para os produtos\n",
    "res_produtos = requests.get(url_produto)\n",
    "if res_produtos.status_code == 200:\n",
    "    df_produtos = pd.DataFrame(res_produtos.json())\n",
    "    print(\"Tabela de Produtos\")\n",
    "    print(df_produtos.head(5))\n",
    "else:\n",
    "    print(f\"Erro ao acessar produtos: {res_produtos.status_code}\")\n",
    "\n",
    "# Requisição para os usuários\n",
    "res_usuarios = requests.get(url_usuarios)\n",
    "if res_usuarios.status_code == 200:\n",
    "    df_usuarios = pd.DataFrame(res_usuarios.json())\n",
    "    print(\"Tabela de Usuários\")\n",
    "    print(df_usuarios.head(5))\n",
    "else:\n",
    "    print(f\"Erro ao acessar usuários: {res_usuarios.status_code}\")\n",
    "\n",
    "# Requisição para os carrinhos\n",
    "res_carrinhos = requests.get(url_carrinhos)\n",
    "if res_carrinhos.status_code == 200:\n",
    "    df_carrinhos = pd.DataFrame(res_carrinhos.json())\n",
    "    print(\"Tabela de Carrinhos\")\n",
    "    print(df_carrinhos.head(5))\n",
    "else:\n",
    "    print(f\"Erro ao acessar carrinhos: {res_carrinhos.status_code}\")\n",
    "\n"
   ]
  },
  {
   "cell_type": "markdown",
   "id": "bc2ceafb",
   "metadata": {},
   "source": [
    "## 🔹 ETAPA 2 - TRATAMENTO DE DADOS\n",
    "\n",
    "✅ Realizar os tratamentos devidos das 3 tabelas = 'Produtos' - 'Usuarios' - 'Carrinho'"
   ]
  },
  {
   "cell_type": "code",
   "execution_count": null,
   "id": "2bc85c3c",
   "metadata": {},
   "outputs": [
    {
     "data": {
      "application/vnd.microsoft.datawrangler.viewer.v0+json": {
       "columns": [
        {
         "name": "index",
         "rawType": "int64",
         "type": "integer"
        },
        {
         "name": "id_produto",
         "rawType": "int64",
         "type": "integer"
        },
        {
         "name": "nome_produto",
         "rawType": "object",
         "type": "string"
        },
        {
         "name": "preco",
         "rawType": "float64",
         "type": "float"
        },
        {
         "name": "categoria",
         "rawType": "object",
         "type": "string"
        },
        {
         "name": "avaliar",
         "rawType": "float64",
         "type": "float"
        },
        {
         "name": "contar",
         "rawType": "int64",
         "type": "integer"
        },
        {
         "name": "descricao",
         "rawType": "object",
         "type": "string"
        }
       ],
       "conversionMethod": "pd.DataFrame",
       "ref": "2f9f084c-d8a9-482b-a665-c26e96e69c2e",
       "rows": [
        [
         "0",
         "1",
         "Fjallraven - Foldsack No. 1 Backpack, Fits 15 Laptops",
         "109.95",
         "men's clothing",
         "3.9",
         "120",
         "Your perfect pack for everyday use and walks in the forest. Stash your laptop (up to 15 inches) in the padded sleeve, your everyday"
        ],
        [
         "1",
         "2",
         "Mens Casual Premium Slim Fit T-Shirts ",
         "22.3",
         "men's clothing",
         "4.1",
         "259",
         "Slim-fitting style, contrast raglan long sleeve, three-button henley placket, light weight & soft fabric for breathable and comfortable wearing. And Solid stitched shirts with round neck made for durability and a great fit for casual fashion wear and diehard baseball fans. The Henley style round neckline includes a three-button placket."
        ],
        [
         "2",
         "3",
         "Mens Cotton Jacket",
         "55.99",
         "men's clothing",
         "4.7",
         "500",
         "great outerwear jackets for Spring/Autumn/Winter, suitable for many occasions, such as working, hiking, camping, mountain/rock climbing, cycling, traveling or other outdoors. Good gift choice for you or your family member. A warm hearted love to Father, husband or son in this thanksgiving or Christmas Day."
        ],
        [
         "3",
         "4",
         "Mens Casual Slim Fit",
         "15.99",
         "men's clothing",
         "2.1",
         "430",
         "The color could be slightly different between on the screen and in practice. / Please note that body builds vary by person, therefore, detailed size information should be reviewed below on the product description."
        ],
        [
         "4",
         "5",
         "John Hardy Women's Legends Naga Gold & Silver Dragon Station Chain Bracelet",
         "695.0",
         "jewelery",
         "4.6",
         "400",
         "From our Legends Collection, the Naga was inspired by the mythical water dragon that protects the ocean's pearl. Wear facing inward to be bestowed with love and abundance, or outward for protection."
        ]
       ],
       "shape": {
        "columns": 7,
        "rows": 5
       }
      },
      "text/html": [
       "<div>\n",
       "<style scoped>\n",
       "    .dataframe tbody tr th:only-of-type {\n",
       "        vertical-align: middle;\n",
       "    }\n",
       "\n",
       "    .dataframe tbody tr th {\n",
       "        vertical-align: top;\n",
       "    }\n",
       "\n",
       "    .dataframe thead th {\n",
       "        text-align: right;\n",
       "    }\n",
       "</style>\n",
       "<table border=\"1\" class=\"dataframe\">\n",
       "  <thead>\n",
       "    <tr style=\"text-align: right;\">\n",
       "      <th></th>\n",
       "      <th>id_produto</th>\n",
       "      <th>nome_produto</th>\n",
       "      <th>preco</th>\n",
       "      <th>categoria</th>\n",
       "      <th>avaliar</th>\n",
       "      <th>contar</th>\n",
       "      <th>descricao</th>\n",
       "    </tr>\n",
       "  </thead>\n",
       "  <tbody>\n",
       "    <tr>\n",
       "      <th>0</th>\n",
       "      <td>1</td>\n",
       "      <td>Fjallraven - Foldsack No. 1 Backpack, Fits 15 ...</td>\n",
       "      <td>109.95</td>\n",
       "      <td>men's clothing</td>\n",
       "      <td>3.9</td>\n",
       "      <td>120</td>\n",
       "      <td>Your perfect pack for everyday use and walks i...</td>\n",
       "    </tr>\n",
       "    <tr>\n",
       "      <th>1</th>\n",
       "      <td>2</td>\n",
       "      <td>Mens Casual Premium Slim Fit T-Shirts</td>\n",
       "      <td>22.30</td>\n",
       "      <td>men's clothing</td>\n",
       "      <td>4.1</td>\n",
       "      <td>259</td>\n",
       "      <td>Slim-fitting style, contrast raglan long sleev...</td>\n",
       "    </tr>\n",
       "    <tr>\n",
       "      <th>2</th>\n",
       "      <td>3</td>\n",
       "      <td>Mens Cotton Jacket</td>\n",
       "      <td>55.99</td>\n",
       "      <td>men's clothing</td>\n",
       "      <td>4.7</td>\n",
       "      <td>500</td>\n",
       "      <td>great outerwear jackets for Spring/Autumn/Wint...</td>\n",
       "    </tr>\n",
       "    <tr>\n",
       "      <th>3</th>\n",
       "      <td>4</td>\n",
       "      <td>Mens Casual Slim Fit</td>\n",
       "      <td>15.99</td>\n",
       "      <td>men's clothing</td>\n",
       "      <td>2.1</td>\n",
       "      <td>430</td>\n",
       "      <td>The color could be slightly different between ...</td>\n",
       "    </tr>\n",
       "    <tr>\n",
       "      <th>4</th>\n",
       "      <td>5</td>\n",
       "      <td>John Hardy Women's Legends Naga Gold &amp; Silver ...</td>\n",
       "      <td>695.00</td>\n",
       "      <td>jewelery</td>\n",
       "      <td>4.6</td>\n",
       "      <td>400</td>\n",
       "      <td>From our Legends Collection, the Naga was insp...</td>\n",
       "    </tr>\n",
       "  </tbody>\n",
       "</table>\n",
       "</div>"
      ],
      "text/plain": [
       "   id_produto                                       nome_produto   preco  \\\n",
       "0           1  Fjallraven - Foldsack No. 1 Backpack, Fits 15 ...  109.95   \n",
       "1           2             Mens Casual Premium Slim Fit T-Shirts    22.30   \n",
       "2           3                                 Mens Cotton Jacket   55.99   \n",
       "3           4                               Mens Casual Slim Fit   15.99   \n",
       "4           5  John Hardy Women's Legends Naga Gold & Silver ...  695.00   \n",
       "\n",
       "        categoria  avaliar  contar  \\\n",
       "0  men's clothing      3.9     120   \n",
       "1  men's clothing      4.1     259   \n",
       "2  men's clothing      4.7     500   \n",
       "3  men's clothing      2.1     430   \n",
       "4        jewelery      4.6     400   \n",
       "\n",
       "                                           descricao  \n",
       "0  Your perfect pack for everyday use and walks i...  \n",
       "1  Slim-fitting style, contrast raglan long sleev...  \n",
       "2  great outerwear jackets for Spring/Autumn/Wint...  \n",
       "3  The color could be slightly different between ...  \n",
       "4  From our Legends Collection, the Naga was insp...  "
      ]
     },
     "execution_count": 2,
     "metadata": {},
     "output_type": "execute_result"
    }
   ],
   "source": [
    "df_produtos.rename(columns={\n",
    "    'id': 'id_produto', \n",
    "    'title': 'nome_produto', \n",
    "    'price': 'preco', \n",
    "    'description': 'descricao', \n",
    "    'category': 'categoria', \n",
    "    'image': 'imagem',\n",
    "    'rating': 'avaliacao'\n",
    "    }, inplace=True)\n",
    "\n",
    "\n",
    "if 'avaliacao' in df_produtos.columns:\n",
    "\n",
    "    df_produtos['avaliar'] = df_produtos['avaliacao'].apply(\n",
    "        lambda x: x['rate'] if isinstance(x, dict) and 'rate' in x else None\n",
    "    )\n",
    "    df_produtos['contar'] = df_produtos['avaliacao'].apply(\n",
    "        lambda x: x['count'] if isinstance(x, dict) and 'count' in x else None\n",
    "    )\n",
    "else:\n",
    "    print(\"A coluna 'avaliacao' não está presente no DataFrame.\")\n",
    "\n",
    "# Transformar para float\n",
    "df_produtos['preco'] = df_produtos['preco'].astype(float)\n",
    "df_produtos['id_produto'] = df_produtos['id_produto'].astype(int)\n",
    "\n",
    "# Remover colunas desnecessárias\n",
    "df_produtos.drop(columns=['imagem'], inplace=True)\n",
    "df_produtos.drop(columns=['avaliacao'], inplace=True)\n",
    "\n",
    "# posicionar as colunas\n",
    "df_produtos = df_produtos[['id_produto', 'nome_produto', 'preco', 'categoria', 'avaliar', 'contar', 'descricao']]\n",
    "\n",
    "df_produtos.head(5)"
   ]
  },
  {
   "cell_type": "code",
   "execution_count": 3,
   "id": "e25684ff",
   "metadata": {},
   "outputs": [
    {
     "name": "stdout",
     "output_type": "stream",
     "text": [
      "id_produto        int64\n",
      "nome_produto     object\n",
      "preco           float64\n",
      "categoria        object\n",
      "avaliar         float64\n",
      "contar            int64\n",
      "descricao        object\n",
      "dtype: object\n"
     ]
    }
   ],
   "source": [
    "print(df_produtos.dtypes)"
   ]
  },
  {
   "cell_type": "code",
   "execution_count": 4,
   "id": "94091e3c",
   "metadata": {},
   "outputs": [
    {
     "data": {
      "application/vnd.microsoft.datawrangler.viewer.v0+json": {
       "columns": [
        {
         "name": "index",
         "rawType": "int64",
         "type": "integer"
        },
        {
         "name": "id_usuario",
         "rawType": "int64",
         "type": "integer"
        },
        {
         "name": "nome_completo",
         "rawType": "object",
         "type": "string"
        },
        {
         "name": "usuario",
         "rawType": "object",
         "type": "string"
        },
        {
         "name": "senha",
         "rawType": "object",
         "type": "string"
        },
        {
         "name": "e_mail",
         "rawType": "object",
         "type": "string"
        },
        {
         "name": "telefone",
         "rawType": "object",
         "type": "string"
        },
        {
         "name": "rua",
         "rawType": "object",
         "type": "string"
        },
        {
         "name": "numero",
         "rawType": "int64",
         "type": "integer"
        },
        {
         "name": "cidade",
         "rawType": "object",
         "type": "string"
        },
        {
         "name": "cep",
         "rawType": "object",
         "type": "string"
        },
        {
         "name": "latitude",
         "rawType": "float64",
         "type": "float"
        },
        {
         "name": "longitude",
         "rawType": "float64",
         "type": "float"
        }
       ],
       "conversionMethod": "pd.DataFrame",
       "ref": "bcda8c03-d8c8-48c9-8378-3818c499dc80",
       "rows": [
        [
         "0",
         "1",
         "john doe",
         "johnd",
         "m38rmF$",
         "john@gmail.com",
         "1-570-236-7033",
         "new road",
         "7682",
         "kilcoole",
         "12926-3874",
         "-37.3159",
         "81.1496"
        ],
        [
         "1",
         "2",
         "david morrison",
         "mor_2314",
         "83r5^_",
         "morrison@gmail.com",
         "1-570-236-7033",
         "Lovers Ln",
         "7267",
         "kilcoole",
         "12926-3874",
         "-37.3159",
         "81.1496"
        ],
        [
         "2",
         "3",
         "kevin ryan",
         "kevinryan",
         "kev02937@",
         "kevin@gmail.com",
         "1-567-094-1345",
         "Frances Ct",
         "86",
         "Cullman",
         "29567-1452",
         "40.3467",
         "-30.131"
        ],
        [
         "3",
         "4",
         "don romer",
         "donero",
         "ewedon",
         "don@gmail.com",
         "1-765-789-6734",
         "Hunters Creek Dr",
         "6454",
         "San Antonio",
         "98234-1734",
         "50.3467",
         "-20.131"
        ],
        [
         "4",
         "5",
         "derek powell",
         "derek",
         "jklg*_56",
         "derek@gmail.com",
         "1-956-001-1945",
         "adams St",
         "245",
         "san Antonio",
         "80796-1234",
         "40.3467",
         "-40.131"
        ]
       ],
       "shape": {
        "columns": 12,
        "rows": 5
       }
      },
      "text/html": [
       "<div>\n",
       "<style scoped>\n",
       "    .dataframe tbody tr th:only-of-type {\n",
       "        vertical-align: middle;\n",
       "    }\n",
       "\n",
       "    .dataframe tbody tr th {\n",
       "        vertical-align: top;\n",
       "    }\n",
       "\n",
       "    .dataframe thead th {\n",
       "        text-align: right;\n",
       "    }\n",
       "</style>\n",
       "<table border=\"1\" class=\"dataframe\">\n",
       "  <thead>\n",
       "    <tr style=\"text-align: right;\">\n",
       "      <th></th>\n",
       "      <th>id_usuario</th>\n",
       "      <th>nome_completo</th>\n",
       "      <th>usuario</th>\n",
       "      <th>senha</th>\n",
       "      <th>e_mail</th>\n",
       "      <th>telefone</th>\n",
       "      <th>rua</th>\n",
       "      <th>numero</th>\n",
       "      <th>cidade</th>\n",
       "      <th>cep</th>\n",
       "      <th>latitude</th>\n",
       "      <th>longitude</th>\n",
       "    </tr>\n",
       "  </thead>\n",
       "  <tbody>\n",
       "    <tr>\n",
       "      <th>0</th>\n",
       "      <td>1</td>\n",
       "      <td>john doe</td>\n",
       "      <td>johnd</td>\n",
       "      <td>m38rmF$</td>\n",
       "      <td>john@gmail.com</td>\n",
       "      <td>1-570-236-7033</td>\n",
       "      <td>new road</td>\n",
       "      <td>7682</td>\n",
       "      <td>kilcoole</td>\n",
       "      <td>12926-3874</td>\n",
       "      <td>-37.3159</td>\n",
       "      <td>81.1496</td>\n",
       "    </tr>\n",
       "    <tr>\n",
       "      <th>1</th>\n",
       "      <td>2</td>\n",
       "      <td>david morrison</td>\n",
       "      <td>mor_2314</td>\n",
       "      <td>83r5^_</td>\n",
       "      <td>morrison@gmail.com</td>\n",
       "      <td>1-570-236-7033</td>\n",
       "      <td>Lovers Ln</td>\n",
       "      <td>7267</td>\n",
       "      <td>kilcoole</td>\n",
       "      <td>12926-3874</td>\n",
       "      <td>-37.3159</td>\n",
       "      <td>81.1496</td>\n",
       "    </tr>\n",
       "    <tr>\n",
       "      <th>2</th>\n",
       "      <td>3</td>\n",
       "      <td>kevin ryan</td>\n",
       "      <td>kevinryan</td>\n",
       "      <td>kev02937@</td>\n",
       "      <td>kevin@gmail.com</td>\n",
       "      <td>1-567-094-1345</td>\n",
       "      <td>Frances Ct</td>\n",
       "      <td>86</td>\n",
       "      <td>Cullman</td>\n",
       "      <td>29567-1452</td>\n",
       "      <td>40.3467</td>\n",
       "      <td>-30.1310</td>\n",
       "    </tr>\n",
       "    <tr>\n",
       "      <th>3</th>\n",
       "      <td>4</td>\n",
       "      <td>don romer</td>\n",
       "      <td>donero</td>\n",
       "      <td>ewedon</td>\n",
       "      <td>don@gmail.com</td>\n",
       "      <td>1-765-789-6734</td>\n",
       "      <td>Hunters Creek Dr</td>\n",
       "      <td>6454</td>\n",
       "      <td>San Antonio</td>\n",
       "      <td>98234-1734</td>\n",
       "      <td>50.3467</td>\n",
       "      <td>-20.1310</td>\n",
       "    </tr>\n",
       "    <tr>\n",
       "      <th>4</th>\n",
       "      <td>5</td>\n",
       "      <td>derek powell</td>\n",
       "      <td>derek</td>\n",
       "      <td>jklg*_56</td>\n",
       "      <td>derek@gmail.com</td>\n",
       "      <td>1-956-001-1945</td>\n",
       "      <td>adams St</td>\n",
       "      <td>245</td>\n",
       "      <td>san Antonio</td>\n",
       "      <td>80796-1234</td>\n",
       "      <td>40.3467</td>\n",
       "      <td>-40.1310</td>\n",
       "    </tr>\n",
       "  </tbody>\n",
       "</table>\n",
       "</div>"
      ],
      "text/plain": [
       "   id_usuario   nome_completo    usuario      senha              e_mail  \\\n",
       "0           1        john doe      johnd    m38rmF$      john@gmail.com   \n",
       "1           2  david morrison   mor_2314     83r5^_  morrison@gmail.com   \n",
       "2           3      kevin ryan  kevinryan  kev02937@     kevin@gmail.com   \n",
       "3           4       don romer     donero     ewedon       don@gmail.com   \n",
       "4           5    derek powell      derek   jklg*_56     derek@gmail.com   \n",
       "\n",
       "         telefone               rua  numero       cidade         cep  \\\n",
       "0  1-570-236-7033          new road    7682     kilcoole  12926-3874   \n",
       "1  1-570-236-7033         Lovers Ln    7267     kilcoole  12926-3874   \n",
       "2  1-567-094-1345        Frances Ct      86      Cullman  29567-1452   \n",
       "3  1-765-789-6734  Hunters Creek Dr    6454  San Antonio  98234-1734   \n",
       "4  1-956-001-1945          adams St     245  san Antonio  80796-1234   \n",
       "\n",
       "   latitude  longitude  \n",
       "0  -37.3159    81.1496  \n",
       "1  -37.3159    81.1496  \n",
       "2   40.3467   -30.1310  \n",
       "3   50.3467   -20.1310  \n",
       "4   40.3467   -40.1310  "
      ]
     },
     "execution_count": 4,
     "metadata": {},
     "output_type": "execute_result"
    }
   ],
   "source": [
    "# Renomear as colunas para nomes mais legíveis\n",
    "df_usuarios.rename(columns={\n",
    "    'name': 'nome',\n",
    "    'address': 'endereco',\n",
    "    'id': 'id_usuario',\n",
    "    'email': 'e_mail',\n",
    "    'username': 'usuario',\n",
    "    'password': 'senha',\n",
    "    'phone': 'telefone'\n",
    "}, inplace=True)\n",
    "\n",
    "\n",
    "# Criar coluna 'nome_completo' se a coluna 'nome' existir\n",
    "if 'nome' in df_usuarios.columns:\n",
    "    df_usuarios['nome_completo'] = df_usuarios['nome'].apply(\n",
    "        lambda x: f\"{x['firstname']} {x['lastname']}\" if isinstance(x, dict) else ''\n",
    "    )\n",
    "\n",
    "# Extrair informações de endereço\n",
    "if 'endereco' in df_usuarios.columns:\n",
    "    \n",
    "    df_usuarios['rua'] = df_usuarios['endereco'].apply(\n",
    "        lambda x: x['street'] if isinstance(x, dict) and 'street' in x else ''\n",
    "    )\n",
    "    df_usuarios['cidade'] = df_usuarios['endereco'].apply(\n",
    "        lambda x: x['city'] if isinstance(x, dict) and 'city' in x else ''\n",
    "    )\n",
    "    df_usuarios['numero'] = df_usuarios['endereco'].apply(\n",
    "        lambda x: x['number'] if isinstance(x, dict) and 'number' in x else ''\n",
    "    )\n",
    "    df_usuarios['cep'] = df_usuarios['endereco'].apply(\n",
    "        lambda x: x['zipcode'] if isinstance(x, dict) and 'zipcode' in x else ''\n",
    "    )\n",
    "\n",
    "    # Extrair latitude e longitude\n",
    "    df_usuarios['latitude'] = df_usuarios['endereco'].apply(\n",
    "        lambda x: x['geolocation']['lat'] if isinstance(x, dict) and 'geolocation' in x else ''\n",
    "    )\n",
    "    df_usuarios['longitude'] = df_usuarios['endereco'].apply(\n",
    "        lambda x: x['geolocation']['long'] if isinstance(x, dict) and 'geolocation' in x else ''\n",
    "    )\n",
    "\n",
    "# Transformar para float\n",
    "df_usuarios['latitude'] = df_usuarios['latitude'].astype(float)\n",
    "df_usuarios['longitude'] = df_usuarios['longitude'].astype(float)\n",
    "\n",
    "# Remover colunas desnecessárias\n",
    "df_usuarios.drop(columns=['endereco'], inplace=True)\n",
    "df_usuarios.drop(columns=['nome'], inplace=True)\n",
    "df_usuarios.drop(columns=['__v'], inplace=True)\n",
    "\n",
    "# posicionar as colunas\n",
    "df_usuarios = df_usuarios[['id_usuario', 'nome_completo', 'usuario', 'senha', 'e_mail', 'telefone', 'rua', 'numero', 'cidade', 'cep', 'latitude', 'longitude']]\n",
    "\n",
    "\n",
    "df_usuarios.head(5)\n"
   ]
  },
  {
   "cell_type": "code",
   "execution_count": 5,
   "id": "0aef3a82",
   "metadata": {},
   "outputs": [
    {
     "name": "stdout",
     "output_type": "stream",
     "text": [
      "id_usuario         int64\n",
      "nome_completo     object\n",
      "usuario           object\n",
      "senha             object\n",
      "e_mail            object\n",
      "telefone          object\n",
      "rua               object\n",
      "numero             int64\n",
      "cidade            object\n",
      "cep               object\n",
      "latitude         float64\n",
      "longitude        float64\n",
      "dtype: object\n"
     ]
    }
   ],
   "source": [
    "\n",
    "print(df_usuarios.dtypes)"
   ]
  },
  {
   "cell_type": "code",
   "execution_count": 6,
   "id": "9248f99f",
   "metadata": {},
   "outputs": [
    {
     "data": {
      "application/vnd.microsoft.datawrangler.viewer.v0+json": {
       "columns": [
        {
         "name": "index",
         "rawType": "int64",
         "type": "integer"
        },
        {
         "name": "id_carrinho",
         "rawType": "int64",
         "type": "integer"
        },
        {
         "name": "id_usuario",
         "rawType": "int64",
         "type": "integer"
        },
        {
         "name": "id_produto",
         "rawType": "int64",
         "type": "integer"
        },
        {
         "name": "quantidade",
         "rawType": "int64",
         "type": "integer"
        },
        {
         "name": "data_criacao",
         "rawType": "datetime64[ns, UTC]",
         "type": "unknown"
        }
       ],
       "conversionMethod": "pd.DataFrame",
       "ref": "b15f9262-194c-4513-91c5-aafd85af4cd2",
       "rows": [
        [
         "0",
         "1",
         "1",
         "1",
         "4",
         "2020-03-02 00:00:00+00:00"
        ],
        [
         "1",
         "1",
         "1",
         "2",
         "1",
         "2020-03-02 00:00:00+00:00"
        ],
        [
         "2",
         "1",
         "1",
         "3",
         "6",
         "2020-03-02 00:00:00+00:00"
        ],
        [
         "3",
         "2",
         "1",
         "2",
         "4",
         "2020-01-02 00:00:00+00:00"
        ],
        [
         "4",
         "2",
         "1",
         "1",
         "10",
         "2020-01-02 00:00:00+00:00"
        ]
       ],
       "shape": {
        "columns": 5,
        "rows": 5
       }
      },
      "text/html": [
       "<div>\n",
       "<style scoped>\n",
       "    .dataframe tbody tr th:only-of-type {\n",
       "        vertical-align: middle;\n",
       "    }\n",
       "\n",
       "    .dataframe tbody tr th {\n",
       "        vertical-align: top;\n",
       "    }\n",
       "\n",
       "    .dataframe thead th {\n",
       "        text-align: right;\n",
       "    }\n",
       "</style>\n",
       "<table border=\"1\" class=\"dataframe\">\n",
       "  <thead>\n",
       "    <tr style=\"text-align: right;\">\n",
       "      <th></th>\n",
       "      <th>id_carrinho</th>\n",
       "      <th>id_usuario</th>\n",
       "      <th>id_produto</th>\n",
       "      <th>quantidade</th>\n",
       "      <th>data_criacao</th>\n",
       "    </tr>\n",
       "  </thead>\n",
       "  <tbody>\n",
       "    <tr>\n",
       "      <th>0</th>\n",
       "      <td>1</td>\n",
       "      <td>1</td>\n",
       "      <td>1</td>\n",
       "      <td>4</td>\n",
       "      <td>2020-03-02 00:00:00+00:00</td>\n",
       "    </tr>\n",
       "    <tr>\n",
       "      <th>1</th>\n",
       "      <td>1</td>\n",
       "      <td>1</td>\n",
       "      <td>2</td>\n",
       "      <td>1</td>\n",
       "      <td>2020-03-02 00:00:00+00:00</td>\n",
       "    </tr>\n",
       "    <tr>\n",
       "      <th>2</th>\n",
       "      <td>1</td>\n",
       "      <td>1</td>\n",
       "      <td>3</td>\n",
       "      <td>6</td>\n",
       "      <td>2020-03-02 00:00:00+00:00</td>\n",
       "    </tr>\n",
       "    <tr>\n",
       "      <th>3</th>\n",
       "      <td>2</td>\n",
       "      <td>1</td>\n",
       "      <td>2</td>\n",
       "      <td>4</td>\n",
       "      <td>2020-01-02 00:00:00+00:00</td>\n",
       "    </tr>\n",
       "    <tr>\n",
       "      <th>4</th>\n",
       "      <td>2</td>\n",
       "      <td>1</td>\n",
       "      <td>1</td>\n",
       "      <td>10</td>\n",
       "      <td>2020-01-02 00:00:00+00:00</td>\n",
       "    </tr>\n",
       "  </tbody>\n",
       "</table>\n",
       "</div>"
      ],
      "text/plain": [
       "   id_carrinho  id_usuario  id_produto  quantidade              data_criacao\n",
       "0            1           1           1           4 2020-03-02 00:00:00+00:00\n",
       "1            1           1           2           1 2020-03-02 00:00:00+00:00\n",
       "2            1           1           3           6 2020-03-02 00:00:00+00:00\n",
       "3            2           1           2           4 2020-01-02 00:00:00+00:00\n",
       "4            2           1           1          10 2020-01-02 00:00:00+00:00"
      ]
     },
     "execution_count": 6,
     "metadata": {},
     "output_type": "execute_result"
    }
   ],
   "source": [
    "# Renomear colunas\n",
    "df_carrinhos.rename(columns={\n",
    "    'id': 'id_carrinho',\n",
    "    'userId': 'id_usuario',\n",
    "    'products': 'produtos',\n",
    "    'date': 'data_criacao',\n",
    "}, inplace=True)\n",
    "\n",
    "# Converter data\n",
    "df_carrinhos['data_criacao'] = pd.to_datetime(df_carrinhos['data_criacao'])\n",
    "\n",
    "\n",
    "df_carrinhos.drop(columns=['__v'], inplace=True)\n",
    "\n",
    "# Garante que todos os valores da coluna sejam listas\n",
    "df_carrinhos['produtos'] = df_carrinhos['produtos'].apply(lambda x: x if isinstance(x, list) else [])\n",
    "\n",
    "# Explode os produtos (transforma cada produto em uma linha separada)\n",
    "df_carrinhos = df_carrinhos.explode('produtos').reset_index(drop=True)\n",
    "\n",
    "# Extrai campos de cada produto\n",
    "df_carrinhos['id_produto'] = df_carrinhos['produtos'].apply(\n",
    "    lambda x: x['productId'] if isinstance(x, dict) and 'productId' in x else None\n",
    ")\n",
    "\n",
    "df_carrinhos['quantidade'] = df_carrinhos['produtos'].apply(\n",
    "    lambda x: x['quantity'] if isinstance(x, dict) and 'quantity' in x else None\n",
    ")\n",
    "\n",
    "df_carrinhos = df_carrinhos[['id_carrinho', 'id_usuario', 'id_produto', 'quantidade', 'data_criacao']]\n",
    "\n",
    "\n",
    "df_carrinhos.head()\n"
   ]
  },
  {
   "cell_type": "code",
   "execution_count": 7,
   "id": "411e0c15",
   "metadata": {},
   "outputs": [
    {
     "name": "stdout",
     "output_type": "stream",
     "text": [
      "id_carrinho                   int64\n",
      "id_usuario                    int64\n",
      "id_produto                    int64\n",
      "quantidade                    int64\n",
      "data_criacao    datetime64[ns, UTC]\n",
      "dtype: object\n"
     ]
    }
   ],
   "source": [
    "print(df_carrinhos.dtypes)"
   ]
  },
  {
   "cell_type": "markdown",
   "id": "e2385c40",
   "metadata": {},
   "source": [
    "## 🔹 ETAPA 3 - CARREGAMENTO \n",
    "\n",
    "✅ Carregar as informações para o SQLITE3"
   ]
  },
  {
   "cell_type": "code",
   "execution_count": 8,
   "id": "009e80bd",
   "metadata": {},
   "outputs": [
    {
     "name": "stdout",
     "output_type": "stream",
     "text": [
      "Dados inseridos com sucesso!\n"
     ]
    }
   ],
   "source": [
    "conn = sqlite3.connect('loja.db')\n",
    "cursor = conn.cursor()\n",
    "\n",
    "\n",
    "# Criar tabela 'produtos'\n",
    "cursor.execute('''\n",
    "    CREATE TABLE IF NOT EXISTS produtos (\n",
    "        id_produto INTEGER PRIMARY KEY,\n",
    "        nome_produto TEXT,\n",
    "        preco float,\n",
    "        categoria TEXT,\n",
    "        avaliar float,\n",
    "        contar INTEGER,\n",
    "        descricao TEXT\n",
    "    )\n",
    "''')\n",
    "\n",
    "# Criar tabela 'usuarios'\n",
    "cursor.execute('''\n",
    "    CREATE TABLE IF NOT EXISTS usuarios (\n",
    "        id_usuario INTEGER PRIMARY KEY,\n",
    "        nome_completo TEXT,\n",
    "        usuario TEXT,\n",
    "        senha TEXT,\n",
    "        e_mail TEXT,\n",
    "        telefone TEXT,\n",
    "        rua TEXT,\n",
    "        numero TEXT,\n",
    "        cidade TEXT,\n",
    "        cep TEXT,\n",
    "        latitude float,\n",
    "        longitude float\n",
    "    )\n",
    "''')\n",
    "\n",
    "# Criar tabela 'carrinhos'\n",
    "cursor.execute('''\n",
    "    CREATE TABLE IF NOT EXISTS carrinhos (\n",
    "        id_carrinho INTEGER PRIMARY KEY,\n",
    "        id_usuario INTEGER,\n",
    "        id_produto INTEGER,\n",
    "        quantidade INTEGER,\n",
    "        data_criacao DATE,\n",
    "        FOREIGN KEY (id_usuario) REFERENCES usuarios (id_usuario),\n",
    "        FOREIGN KEY (id_produto) REFERENCES produtos (id_produto)\n",
    "    )\n",
    "''')\n",
    "\n",
    "df_produtos.to_sql('produtos', conn, if_exists='append', index=False)\n",
    "df_usuarios.to_sql('usuarios', conn, if_exists='append', index=False)\n",
    "df_carrinhos.to_sql('carrinhos', conn, if_exists='replace', index=False)\n",
    "\n",
    "conn.commit()\n",
    "conn.close()\n",
    "\n",
    "print(\"Dados inseridos com sucesso!\")"
   ]
  },
  {
   "cell_type": "markdown",
   "id": "cab5f626",
   "metadata": {},
   "source": [
    "## 🔹 ETAPA 4 - VALIDAÇÃO\n",
    "\n",
    "✅ Validar as tabelas disponibilizadas"
   ]
  },
  {
   "cell_type": "code",
   "execution_count": 9,
   "id": "233da83e",
   "metadata": {},
   "outputs": [
    {
     "name": "stdout",
     "output_type": "stream",
     "text": [
      "produtos: {20}\n"
     ]
    }
   ],
   "source": [
    "import sqlite3\n",
    "\n",
    "conn = sqlite3.connect('loja.db')\n",
    "cursor = conn.cursor()\n",
    "\n",
    "\n",
    "cursor.execute(\"SELECT COUNT(*) FROM produtos\")\n",
    "print('produtos:', {cursor.fetchone()[0]})"
   ]
  },
  {
   "cell_type": "code",
   "execution_count": 10,
   "id": "ef9fcf07",
   "metadata": {},
   "outputs": [
    {
     "name": "stdout",
     "output_type": "stream",
     "text": [
      "usuarios: {10}\n"
     ]
    }
   ],
   "source": [
    "cursor.execute(\"SELECT COUNT(*) FROM usuarios\")\n",
    "print('usuarios:', {cursor.fetchone()[0]})"
   ]
  },
  {
   "cell_type": "code",
   "execution_count": 11,
   "id": "e24efed6",
   "metadata": {},
   "outputs": [
    {
     "name": "stdout",
     "output_type": "stream",
     "text": [
      "carrinhos: {14}\n"
     ]
    }
   ],
   "source": [
    "cursor.execute(\"SELECT COUNT(*) FROM carrinhos\")\n",
    "print('carrinhos:', {cursor.fetchone()[0]})\n",
    "\n",
    "conn.close()"
   ]
  },
  {
   "cell_type": "markdown",
   "id": "e8cef2e7",
   "metadata": {},
   "source": [
    "## 🔹 ETAPA 5 - SISTEMA DE ALERTA\n",
    "\n",
    "✅ Alerta, caso o usuario faça um registro sem o e_mail cadastrado"
   ]
  },
  {
   "cell_type": "code",
   "execution_count": 12,
   "id": "b40e1e93",
   "metadata": {},
   "outputs": [],
   "source": [
    "from plyer import notification\n",
    "\n",
    "def notificar_usuario(e_mail, df_usuarios):\n",
    "    # Verifica se o e-mail foi fornecido\n",
    "    if not e_mail or not isinstance(e_mail, str):\n",
    "        print(\"Erro: E-mail inválido ou vazio.\")\n",
    "        return\n",
    "\n",
    "    # Verifica se a coluna 'e_mail' existe no DataFrame\n",
    "    if 'e_mail' not in df_usuarios.columns:\n",
    "        print(\"Erro: A coluna 'e_mail' não existe no DataFrame.\")\n",
    "        return\n",
    "\n",
    "    # Verifica se o e-mail está cadastrado\n",
    "    if e_mail in df_usuarios['e_mail'].values:\n",
    "        print(f\"E-mail '{e_mail}' encontrado na base de dados.\")\n",
    "    else:\n",
    "        print(f\"E-mail '{e_mail}' NÃO encontrado na base de dados. Notificando...\")\n",
    "        notification.notify(\n",
    "            title='Alerta de Notificação',\n",
    "            message=f'Atenção! O e-mail \"{e_mail}\" não está cadastrado!',\n",
    "            app_name='Loja Fake Store',\n",
    "            timeout=10\n",
    "        )\n",
    "\n",
    "\n"
   ]
  },
  {
   "cell_type": "code",
   "execution_count": 14,
   "id": "9585e9cf",
   "metadata": {},
   "outputs": [
    {
     "name": "stdout",
     "output_type": "stream",
     "text": [
      "E-mail 'gab@gmail.com' NÃO encontrado na base de dados. Notificando...\n"
     ]
    }
   ],
   "source": [
    "import pandas as pd\n",
    "\n",
    "# Exemplo de uso, voce pode alterar o e-mail para testar\n",
    "df_usuarios = pd.DataFrame({'e_mail': ['don@gmail.com']}\n",
    ")\n",
    "\n",
    "notificar_usuario('gab@gmail.com', df_usuarios)"
   ]
  }
 ],
 "metadata": {
  "kernelspec": {
   "display_name": "Python 3",
   "language": "python",
   "name": "python3"
  },
  "language_info": {
   "codemirror_mode": {
    "name": "ipython",
    "version": 3
   },
   "file_extension": ".py",
   "mimetype": "text/x-python",
   "name": "python",
   "nbconvert_exporter": "python",
   "pygments_lexer": "ipython3",
   "version": "3.13.2"
  }
 },
 "nbformat": 4,
 "nbformat_minor": 5
}
